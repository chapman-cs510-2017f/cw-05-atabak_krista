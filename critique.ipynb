{
 "cells": [
  {
   "cell_type": "markdown",
   "metadata": {
    "collapsed": false
   },
   "source": [
    "#### Reviewee : Krista\n",
    "#### Reviewer: Atabak\n"
   ]
  },
  {
   "cell_type": "markdown",
   "metadata": {
    "collapsed": false
   },
   "source": [
    "#### -Is it clear how the code is organized? \n",
    "100/100\n",
    "#### -Is the code properly documented with both docstrings and supplementary comments according to industry standards?\n",
    "80/100\n",
    "#### Can you follow the algorithm of the code, i.e., what it is doing, and how? Do you see any suggestions for how to improve the code?\n",
    "60/100\n",
    "#### Are there test cases for the code? \n",
    "70/100\n",
    "#### Do the tests verify correct functionality? \n",
    "80/100 it is better to have more test cases.\n",
    "#### Are there tests that would have been good to include but are missing? \n",
    "yes - it could have some tests for negative inputs and character inputs.\n",
    "#### Is the Jupyter notebook a clear discussion of the problem, solution, and outline of the algorithm used in the code? \n",
    "100/100 Yes its clear with nice visualations.\n",
    "\n"
   ]
  },
  {
   "cell_type": "code",
   "execution_count": 0,
   "metadata": {
    "collapsed": false
   },
   "outputs": [
   ],
   "source": [
   ]
  }
 ],
 "metadata": {
  "kernelspec": {
   "display_name": "Python 2 (SageMath)",
   "language": "python",
   "name": "python2"
  },
  "language_info": {
   "codemirror_mode": {
    "name": "ipython",
    "version": 2
   },
   "file_extension": ".py",
   "mimetype": "text/x-python",
   "name": "python",
   "nbconvert_exporter": "python",
   "pygments_lexer": "ipython2",
   "version": "2.7.13"
  }
 },
 "nbformat": 4,
 "nbformat_minor": 0
}